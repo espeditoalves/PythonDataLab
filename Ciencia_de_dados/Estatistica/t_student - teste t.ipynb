{
 "cells": [
  {
   "cell_type": "markdown",
   "metadata": {},
   "source": [
    "## **Teste T Pareado usando Python**"
   ]
  },
  {
   "cell_type": "markdown",
   "metadata": {},
   "source": [
    "Para testar se existe uma diferença significativa entre as médias das métricas das duas colunas \n",
    "**`ks.scores1`** e **`ks.scores2`**, podemos usar um **`teste t pareado`**. \n",
    "Este teste é adequado para comparar as médias de duas amostras emparelhadas, \n",
    "assumindo que as diferenças entre as amostras seguem uma distribuição normal."
   ]
  },
  {
   "cell_type": "markdown",
   "metadata": {},
   "source": [
    "### **Passos para realizar o Teste T Pareado:**\n",
    "\n",
    "**1. Formulação das Hipóteses:**\n",
    "\n",
    "- **`H0 (Hipótese Nula):`** A diferença entre as médias das métricas é zero ($𝜇_1 −𝜇_2 = 0$).\n",
    "- **`H1 (Hipótese Alternativa):`** A diferença entre as médias das métricas não é zero ($𝜇_1 −𝜇_2$ != $0$).\n",
    "\n",
    "**2. Cálculo da Diferença das Métricas:**\n",
    "\n",
    "- Para cada par de valores das duas colunas, calcule a diferença.\n",
    "\n",
    "**3. Aplicação do Teste T Pareado:**\n",
    "\n",
    "- Utilize a diferença calculada para aplicar o **`teste t pareado`**.\n",
    "- Calcule o **`valor p`** para determinar se as diferenças são estatisticamente significativas."
   ]
  },
  {
   "cell_type": "markdown",
   "metadata": {},
   "source": [
    "## **Implementação em Python:**\n",
    "\n",
    "Vou demonstrar como você pode implementar isso usando a biblioteca **`scipy.stats`** para calcular o **teste t pareado**."
   ]
  },
  {
   "cell_type": "code",
   "execution_count": 1,
   "metadata": {},
   "outputs": [
    {
     "name": "stdout",
     "output_type": "stream",
     "text": [
      "Estatística t: 4.378132332736648\n",
      "Valor p: 0.011892242763488443\n",
      "Rejeitamos a hipótese nula: Há diferença significativa entre as médias.\n"
     ]
    }
   ],
   "source": [
    "import pandas as pd\n",
    "from scipy import stats\n",
    "\n",
    "# Dados fornecidos: ks.scores\n",
    "data = {\n",
    "    \"ks.scores1\": [0.583983, 0.576596, 0.556730, 0.595138, 0.584564],\n",
    "    \"ks.scores2\": [0.490242, 0.551584, 0.514383, 0.535587, 0.546064]\n",
    "}\n",
    "\n",
    "# Criar o DataFrame\n",
    "df = pd.DataFrame(data)\n",
    "\n",
    "# Calcular o teste T pareado\n",
    "t_statistic, p_value = stats.ttest_rel(df['ks.scores1'], df['ks.scores2'])\n",
    "\n",
    "# Exibir resultados\n",
    "print(\"Estatística t:\", t_statistic)\n",
    "print(\"Valor p:\", p_value)\n",
    "\n",
    "# Avaliação do resultado\n",
    "if p_value < 0.05:\n",
    "    print(\"Rejeitamos a hipótese nula: Há diferença significativa entre as médias.\")\n",
    "else:\n",
    "    print(\"Não rejeitamos a hipótese nula: Não há diferença significativa entre as médias.\")\n"
   ]
  }
 ],
 "metadata": {
  "kernelspec": {
   "display_name": ".venv",
   "language": "python",
   "name": "python3"
  },
  "language_info": {
   "codemirror_mode": {
    "name": "ipython",
    "version": 3
   },
   "file_extension": ".py",
   "mimetype": "text/x-python",
   "name": "python",
   "nbconvert_exporter": "python",
   "pygments_lexer": "ipython3",
   "version": "3.11.7"
  }
 },
 "nbformat": 4,
 "nbformat_minor": 2
}
