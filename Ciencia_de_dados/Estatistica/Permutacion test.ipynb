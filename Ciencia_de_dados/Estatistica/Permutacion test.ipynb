{
 "cells": [
  {
   "cell_type": "markdown",
   "metadata": {},
   "source": [
    "## **Teste de permutação**"
   ]
  },
  {
   "cell_type": "markdown",
   "metadata": {},
   "source": [
    "\n",
    "Para realizar um teste de permutação junto e um teste t no cenário em que você possui duas colunas de métricas ks.scores1 e ks.scores2, podemos seguir os seguintes passos:\n",
    "\n",
    "**1. `Teste T Pareado:`** É um teste paramétrico que assume que os dados seguem uma distribuição normal (para grandes amostras, isso é menos crítico devido ao Teorema Central do Limite). Ele é mais eficiente com amostras grandes e pode ser mais fácil de interpretar em muitos casos. Como já discutido, o teste t pareado é apropriado para amostras emparelhadas e verifica se a diferença média é significativamente diferente de zero.\n",
    "\n",
    "**2. `Teste de Permutação:`** É um teste não-paramétrico que não faz suposições sobre a distribuição dos dados. Ele avalia a diferença entre as médias das amostras ao permutar os dados entre as duas amostras para gerar uma distribuição nula.É especialmente útil quando você tem uma amostra pequena ou quando não pode assumir a normalidade dos dados."
   ]
  },
  {
   "cell_type": "markdown",
   "metadata": {},
   "source": [
    "## **Implementação do Teste T Pareado**\n",
    "\n",
    "Antes de implementarmos o teste de permutação, vamos relembrar como implementar o teste t pareado: \n",
    "- [Notebook -Teste T Python](t_student%20-%20teste%20t.ipynb)\n",
    "- [Notebook -Teste T Calculo](t_student%20-%20teste%20t%20calculo.md)"
   ]
  },
  {
   "cell_type": "markdown",
   "metadata": {},
   "source": [
    "## **Implementação do Teste de Permutação**\n"
   ]
  },
  {
   "cell_type": "markdown",
   "metadata": {},
   "source": [
    "O **`teste de permutação`** é um método de **`resampling`** que permite testar a hipótese nula de que duas amostras não apresentam diferenças estatísticas significativas. Isso é feito através da permutação repetida dos dados, calculando a diferença nas médias a cada permutação, para criar uma distribuição nula."
   ]
  },
  {
   "cell_type": "markdown",
   "metadata": {},
   "source": [
    "### **Passo a Passo para o Teste de Permutação**\n",
    "\n",
    "**1. Formulação das Hipóteses:**\n",
    "\n",
    "- **`H0 (Hipótese Nula):`**  As duas amostras vêm da mesma distribuição (Não há diferença significativa entre as médias).\n",
    "- **`H1 (Hipótese Alternativa):`** As duas amostras vêm de distribuições diferentes (Há diferença significativa entre as médias).\n",
    "\n",
    "**2. Passos do Teste de Permutação:**\n",
    "\n",
    "- Calcule a diferença observada entre as médias das duas amostras.\n",
    "- Combine as amostras em um único conjunto de dados.\n",
    "- Embaralhe (permute) aleatoriamente os dados e separe-os novamente em dois grupos.\n",
    "- Calcule a diferença entre as médias dos grupos permutados.\n",
    "- Repita o processo de permutação várias vezes (por exemplo, 10.000 vezes) para construir a distribuição nula.\n",
    "- Compare a diferença observada com a distribuição nula para determinar o valor p.\n"
   ]
  },
  {
   "cell_type": "markdown",
   "metadata": {},
   "source": [
    "## **Teste de Permutação: Código 1:**"
   ]
  },
  {
   "cell_type": "code",
   "execution_count": 1,
   "metadata": {},
   "outputs": [
    {
     "name": "stdout",
     "output_type": "stream",
     "text": [
      "Diferença observada: 0.05183019999999994\n",
      "Valor p do teste de permutação: 0.0053\n",
      "Rejeitamos a hipótese nula: Há diferença significativa entre as médias.\n"
     ]
    }
   ],
   "source": [
    "import numpy as np\n",
    "import pandas as pd\n",
    "\n",
    "# Dados fornecidos: ks.scores\n",
    "data = {\n",
    "    \"ks.scores1\": [0.583983, 0.576596, 0.556730, 0.595138, 0.584564],\n",
    "    \"ks.scores2\": [0.490242, 0.551584, 0.514383, 0.535587, 0.546064]\n",
    "}\n",
    "\n",
    "# Criar o DataFrame\n",
    "df = pd.DataFrame(data)\n",
    "\n",
    "# Número de permutações\n",
    "num_permutations = 10000\n",
    "\n",
    "# Calcular a diferença observada entre as médias\n",
    "observed_diff = np.mean(df['ks.scores1']) - np.mean(df['ks.scores2'])\n",
    "\n",
    "# Combinar as duas amostras\n",
    "combined = np.hstack((df['ks.scores1'], df['ks.scores2']))\n",
    "\n",
    "# Inicializar contador para permutações onde a diferença é maior ou igual à diferença observada\n",
    "count = 0\n",
    "\n",
    "# Permutação\n",
    "for _ in range(num_permutations):\n",
    "    # Embaralhar os dados\n",
    "    np.random.shuffle(combined)\n",
    "    # Separar novamente em dois grupos\n",
    "    permuted1 = combined[:len(df['ks.scores1'])]\n",
    "    permuted2 = combined[len(df['ks.scores1']):]\n",
    "    # Calcular a diferença de médias nas amostras permutadas\n",
    "    permuted_diff = np.mean(permuted1) - np.mean(permuted2)\n",
    "    # Verificar se a diferença permutada é maior ou igual à diferença observada\n",
    "    if abs(permuted_diff) >= abs(observed_diff):\n",
    "        count += 1\n",
    "\n",
    "# Calcular o valor p\n",
    "p_value_permutation = count / num_permutations\n",
    "\n",
    "# Exibir resultados\n",
    "print(\"Diferença observada:\", observed_diff)\n",
    "print(\"Valor p do teste de permutação:\", p_value_permutation)\n",
    "\n",
    "# Avaliação do resultado\n",
    "if p_value_permutation < 0.05:\n",
    "    print(\"Rejeitamos a hipótese nula: Há diferença significativa entre as médias.\")\n",
    "else:\n",
    "    print(\"Não rejeitamos a hipótese nula: Não há diferença significativa entre as médias.\")\n"
   ]
  },
  {
   "cell_type": "markdown",
   "metadata": {},
   "source": [
    "### **Explicação do Código do Teste de Permutação**\n",
    "\n",
    "- **`Combinação e Permutação:`** Combina as duas amostras em um array e embaralha repetidamente para criar distribuições permutadas.\n",
    "- **`Contagem:`** Conta o número de permutações onde a diferença permutada é maior ou igual à diferença observada.\n",
    "- **`Cálculo do Valor p:`** O valor p é calculado dividindo o número de permutações em que a diferença permutada foi maior ou igual à diferença observada pelo total de permutações.\n",
    "\n",
    "### **Resultado Esperado**\n",
    "\n",
    "Ao executar ambos os testes, você terá duas análises complementares sobre a diferença entre as médias das métricas:\n",
    "\n",
    "- **1. `Teste T Pareado:`** Verifica se a diferença média é significativa sob a suposição de normalidade.\n",
    "- **2. `Teste de Permutação:`** Oferece uma abordagem não-paramétrica para testar a mesma hipótese.\n",
    "\n",
    "### **Considerações**\n",
    "\n",
    "O teste t assume que as diferenças entre as amostras seguem uma distribuição normal. Se essa suposição não for válida, o teste de permutação é uma boa alternativa.\n",
    "O teste de permutação é computacionalmente intensivo, mas não depende de suposições sobre a distribuição dos dados, tornando-o útil para casos em que a normalidade é questionável."
   ]
  },
  {
   "cell_type": "markdown",
   "metadata": {},
   "source": [
    "## **Teste de Permutação: Código 2 ()**"
   ]
  },
  {
   "cell_type": "code",
   "execution_count": 3,
   "metadata": {},
   "outputs": [
    {
     "name": "stdout",
     "output_type": "stream",
     "text": [
      "\n",
      " Teste de Significancia \n",
      "**$H_0$:** Diferença entre as médias das métricas é zero. \n",
      "\n",
      " Arrays sizes: 5, 5 \n",
      "* Difference between averages: 0.5794 - 0.5276 = 0.0518\n",
      "* p_val = 0.0049 \n",
      "The model seems to produce different results with CI-0.95 (reject H0).\n",
      "\n"
     ]
    }
   ],
   "source": [
    "from typing import Dict, List, Tuple\n",
    "def permutation_test(\n",
    "    array1: List[float],\n",
    "    array2: List[float],\n",
    "    anscreen: bool = True,\n",
    "    alpha: float = 0.05\n",
    ") -> Tuple[float, List[float], float, List[str]]:\n",
    "    \"\"\"\n",
    "    Realiza um teste de permutação para comparar as médias de dois arrays.\n",
    "\n",
    "    Args:\n",
    "        array1 (List[float]): O primeiro array de dados.\n",
    "        array2 (List[float]): O segundo array de dados.\n",
    "        anscreen (bool): Se True, imprime os resultados na tela. Default é False.\n",
    "        alpha (float): Nível de significância para o teste (p-valor). Default é 0.05.\n",
    "\n",
    "    Returns:\n",
    "        Tuple[float, List[float], float, List[str]]:\n",
    "            - p_val (float): Valor p do teste de permutação.\n",
    "            - mean_lst (List[float]): Lista das diferenças médias permutadas.\n",
    "            - mean_diff (float): Diferença média observada entre os dois arrays.\n",
    "            - text_lst (List[str]): Lista de mensagens interpretativas sobre o teste.\n",
    "    \"\"\"\n",
    "    # Garantindo a entrada com numpy array\n",
    "    array1 = np.array(array1)\n",
    "    array2 = np.array(array2)\n",
    "    \n",
    "    # Cálculo das médias de cada vetor\n",
    "    avg_array1 = array1.mean()\n",
    "    avg_array2 = array2.mean()\n",
    "    \n",
    "    # Diferença entre as médias\n",
    "    mean_diff = avg_array1 - avg_array2\n",
    "    full_array = np.concatenate([array1, array2])\n",
    "    mean_lst = []\n",
    "    # Defina a semente aleatória para reprodutibilidade\n",
    "    np.random.seed(42)\n",
    "    for i in range(10000):\n",
    "        # Com reposição: bootstrapping\n",
    "        avg1 = np.random.choice(full_array, size=len(array1), replace=True).mean()\n",
    "        avg2 = np.random.choice(full_array, size=len(array2), replace=True).mean()\n",
    "        # reprece = True, Assume que qualquer valor pode vir de uma das duas listas, convergÊncia para Normal.\n",
    "        mean_lst.append(avg1 - avg2)\n",
    "    \n",
    "    if mean_diff > 0:\n",
    "        p_val = np.sum(np.array(mean_lst) > mean_diff) / len(mean_lst) \n",
    "    else:\n",
    "        p_val = np.sum(np.array(mean_lst) < mean_diff) / len(mean_lst) \n",
    "    \n",
    "    text_lst = [\"\\n Teste de Significancia \", \n",
    "                \"**$H_0$:** Diferença entre as médias das métricas é zero. \\n\",\n",
    "                f\" Arrays sizes: {len(array1)}, {len(array2)} \",\n",
    "                \"* Difference between averages: %.4f - %.4f = %.4f\" % (avg_array1, avg_array2, mean_diff),\n",
    "                \"* p_val = %.4f \" %p_val]\n",
    "    \n",
    "    if p_val > alpha:\n",
    "        text_lst.append(f'The model seems to produce similar results with CI-{1 - alpha} (fail to reject H0).\\n')\n",
    "    else:\n",
    "        text_lst.append(f'The model seems to produce different results with CI-{1 - alpha} (reject H0).\\n')\n",
    "    \n",
    "    if anscreen:\n",
    "        for line in text_lst:\n",
    "            print(line)   \n",
    "    return p_val, mean_lst, mean_diff, text_lst\n",
    "\n",
    "# Dados fornecidos: ks.scores\n",
    "data = {\n",
    "    \"ks.scores1\": [0.583983, 0.576596, 0.556730, 0.595138, 0.584564],\n",
    "    \"ks.scores2\": [0.490242, 0.551584, 0.514383, 0.535587, 0.546064]\n",
    "}\n",
    "p_val, mean_lst, mean_diff, text_lst = permutation_test(array1 = data[\"ks.scores1\"], array2 = data[\"ks.scores2\"], alpha  = 0.05)"
   ]
  },
  {
   "cell_type": "markdown",
   "metadata": {},
   "source": [
    "## **Comparando os códigos de Permutação**\n",
    "\n",
    "O **`código 1`**  e a função **`permutation_test`** compartilham a mesma lógica básica para realizar um teste de permutação, mas existem algumas diferenças sutis na implementação e no tipo de análise.\n"
   ]
  },
  {
   "cell_type": "markdown",
   "metadata": {},
   "source": [
    "### **Código Fornecido**\n",
    "\n",
    "**1. Processo de Permutação:**\n",
    "- Combina as duas amostras.\n",
    "- Embaralha aleatoriamente os dados combinados.\n",
    "- Separa os dados embaralhados novamente em duas amostras.\n",
    "- Calcula a diferença entre as médias das amostras permutadas e compara com a diferença observada.\n",
    "\n",
    "**2. Valor p:**\n",
    "\n",
    "- O **`valor p`** é calculado como a proporção das diferenças permutadas que são maiores ou iguais à diferença observada.\n",
    "\n",
    "**3. Teste de Hipóteses:**\n",
    "\n",
    "Se o **`valor p for menor que 0.05`**, **`rejeita a hipótese nula`**, indicando que há uma diferença significativa entre as médias.\n",
    "\n",
    "---\n",
    "\n",
    "### **Função permutation_test**\n",
    "\n",
    "**1. Processo de Permutação:**\n",
    "- Em vez de combinar e embaralhar os dados, utiliza a técnica de **`bootstrapping`** (amostragem com reposição) para gerar as diferenças de médias.\n",
    "Calcula a diferença entre as médias de amostras **bootstrapped** e compara com a diferença observada.\n",
    "\n",
    "**2. Valor p:**\n",
    "- O valor p é calculado comparando a diferença média observada com as diferenças médias obtidas nas amostras bootstrapped.\n",
    "\n",
    "**3. Teste de Hipóteses:**\n",
    "- A função oferece uma descrição mais detalhada do teste, incluindo mensagens interpretativas.\n",
    "- Permite definir um nível de significância (alpha) e imprime resultados na tela se o argumento anscreen for True."
   ]
  },
  {
   "cell_type": "markdown",
   "metadata": {},
   "source": [
    "## **Principais Diferenças**\n",
    "- **`Combinação de Dados:`** O **código 1** combina as amostras e embaralha, enquanto a função **permutation_test** utiliza **`bootstrapping`**.\n",
    "- **`Tipo de Permutação:`** O **código 1** usa permutação direta, enquanto a função **permutation_test** usa amostragem com reposição.\n",
    "- **`Saída:`** A função **permutation_test** retorna um conjunto mais detalhado de informações e permite a impressão dos resultados.\n",
    "  \n",
    "> Ambos os métodos têm o mesmo objetivo: comparar as médias de duas amostras para determinar se há uma diferença significativa. A escolha entre eles pode depender da preferência ou do contexto específico do problema.\n"
   ]
  }
 ],
 "metadata": {
  "kernelspec": {
   "display_name": ".venv",
   "language": "python",
   "name": "python3"
  },
  "language_info": {
   "codemirror_mode": {
    "name": "ipython",
    "version": 3
   },
   "file_extension": ".py",
   "mimetype": "text/x-python",
   "name": "python",
   "nbconvert_exporter": "python",
   "pygments_lexer": "ipython3",
   "version": "3.11.7"
  }
 },
 "nbformat": 4,
 "nbformat_minor": 2
}
